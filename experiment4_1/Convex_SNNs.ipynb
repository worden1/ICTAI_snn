{
 "cells": [
  {
   "cell_type": "code",
   "execution_count": null,
   "metadata": {},
   "outputs": [],
   "source": [
    "import numpy as np\n",
    "import numba as nb\n",
    "import matplotlib.pyplot as plt\n",
    "import snn_cvx\n",
    "from mpl_toolkits.mplot3d import axes3d\n",
    "%matplotlib inline"
   ]
  },
  {
   "cell_type": "code",
   "execution_count": null,
   "metadata": {},
   "outputs": [],
   "source": [
    "import holoviews as hv\n",
    "hv.extension('matplotlib')"
   ]
  },
  {
   "cell_type": "markdown",
   "metadata": {},
   "source": [
    "## Build train and test sets"
   ]
  },
  {
   "cell_type": "code",
   "execution_count": null,
   "metadata": {},
   "outputs": [],
   "source": [
    "# generate training data\n",
    "P_train = 100\n",
    "x_lim = 4\n",
    "\n",
    "x1 = np.linspace(-x_lim, x_lim, P_train)\n",
    "x2 = np.linspace(-x_lim, x_lim, P_train)\n",
    "X1_train, X2_train = np.meshgrid(x1, x2)\n",
    "    \n",
    "def func(x1, x2):\n",
    "    y = 0.3*(x1**2 + x2**2)\n",
    "    return y\n",
    "\n",
    "Y_targ_train = func(X1_train, X2_train)\n",
    "Y_ravelled = Y_targ_train.ravel()\n",
    "X_train = np.vstack((X1_train.ravel(), X2_train.ravel())).T\n",
    "Y_train = Y_ravelled[:, None]\n"
   ]
  },
  {
   "cell_type": "code",
   "execution_count": null,
   "metadata": {},
   "outputs": [],
   "source": [
    "T = 4 # simulation time\n",
    "dt = 3e-03 # time step\n",
    "t_span = np.arange(0, T, dt)\n",
    "num_bins = t_span.size\n",
    "buffer_bins = int(1/dt)\n",
    "buffer_zeros = int(buffer_bins/2)\n",
    "K = 2\n",
    "x_sample = np.zeros((K, num_bins))\n",
    "\n",
    "data_index = 1\n",
    "print(X_train)\n",
    "print(X_train[data_index, :][:, None])\n",
    "x_sample[:, buffer_zeros:] = X_train[data_index, :][:, None]\n",
    "print(x_sample)\n",
    "print(x_sample.shape)"
   ]
  },
  {
   "cell_type": "code",
   "execution_count": null,
   "metadata": {},
   "outputs": [],
   "source": [
    "# create test data\n",
    "P_test = 500\n",
    "x_lim = 4\n",
    "x1 = np.linspace(-x_lim, x_lim, P_test)\n",
    "x2 = np.linspace(-x_lim, x_lim, P_test)\n",
    "X1_test, X2_test = np.meshgrid(x1, x2)\n",
    "\n",
    "Y_targ_test = func(X1_test, X2_test)\n",
    "Y_ravelled_test = Y_targ_test.ravel()\n",
    "X_test = np.vstack((X1_test.ravel(), X2_test.ravel())).T\n",
    "Y_test = Y_ravelled_test[:, None]\n"
   ]
  },
  {
   "cell_type": "code",
   "execution_count": null,
   "metadata": {},
   "outputs": [],
   "source": [
    "# Plot a 3D surface\n",
    "fig = plt.figure(figsize=(8, 9))\n",
    "ax1 = fig.add_subplot(111, projection='3d')\n",
    "ax1.set_xlabel('$x_1$')\n",
    "ax1.set_ylabel('$x_2$')\n",
    "ax1.set_zlabel('$y$')\n",
    "# Plot a 3D surface\n",
    "target_surface = ax1.plot_surface(X1_test, X2_test, Y_targ_test, alpha=0.5)\n",
    "fig.suptitle('Target surface', fontsize=18)\n",
    "plt.show()"
   ]
  },
  {
   "cell_type": "markdown",
   "metadata": {},
   "source": [
    "## Network parameters"
   ]
  },
  {
   "cell_type": "code",
   "execution_count": null,
   "metadata": {},
   "outputs": [],
   "source": [
    "# setting up dimensions and initial parameters\n",
    "M = 1\n",
    "K = 2\n",
    "N = 50\n",
    "leak = 2\n",
    "\n",
    "# initialize my gamma matrix\n",
    "random_state = np.random.RandomState(seed=3)\n",
    "D_weights_init = random_state.rand(M, N)\n",
    "D_weights_init = D_weights_init / np.linalg.norm(D_weights_init, axis=0)\n",
    "G_weights_init = D_weights_init.copy().T\n",
    "F_weights_init = random_state.randn(K, N).T\n",
    "omega_init = -G_weights_init @ D_weights_init\n",
    "thresholds_init = 2*random_state.rand(N) - 1\n",
    "\n",
    "F_weights_2_init = random_state.randn(N, N).T\n",
    "G_weights_2_init = G_weights_init\n",
    "omega_2_init = omega_init\n",
    "thresholds_2_init = 2*random_state.rand(N) - 1\n"
   ]
  },
  {
   "cell_type": "markdown",
   "metadata": {},
   "source": [
    "## Before learning\n",
    "\n",
    "We run the network with the inital parameters and compute an average readout for each input sample. Thus, we can get the SNN surface before learning.\n",
    "\n",
    "Also, since the output dimension of the network is one, we can use a maxout function - refer to equation (10) of the paper - to get the network output (without discretization error). We also check which neuron contributes to the code for each input sample (active constraints) by looking at the argument that maximizes the maxout function."
   ]
  },
  {
   "cell_type": "code",
   "execution_count": null,
   "metadata": {},
   "outputs": [],
   "source": [
    "T = 4 # simulation time\n",
    "dt = 3e-03 # time step\n",
    "t_span = np.arange(0, T, dt)\n",
    "num_bins = t_span.size\n",
    "buffer_bins = int(1/dt)\n",
    "buffer_zeros = int(buffer_bins/2)\n",
    "x_sample = np.zeros((K, num_bins))\n",
    "\n",
    "# initialize network parameters\n",
    "D_weights = D_weights_init.copy()\n",
    "G_weights = G_weights_init.copy()\n",
    "F_weights = F_weights_init.copy()\n",
    "omega = omega_init.copy()\n",
    "thresholds = thresholds_init.copy()\n",
    "\n",
    "G_weights_2 = G_weights_2_init.copy()\n",
    "F_weights_2 = F_weights_2_init.copy()\n",
    "omega_2 = omega_2_init.copy()\n",
    "thresholds_2 = thresholds_2_init.copy()\n",
    "\n",
    "\n",
    "y_readout = []\n",
    "\n",
    "for data_index in range(X_train.shape[0]):\n",
    "    x_sample[:, buffer_zeros:] = X_train[data_index, :][:, None]\n",
    "\n",
    "    rates = snn_cvx.run_snn_trial(\n",
    "        x_sample,\n",
    "        F_weights,\n",
    "        omega,\n",
    "        thresholds,\n",
    "        dt,\n",
    "        leak,\n",
    "    )\n",
    "    \n",
    "    y_readout += [np.copy(D_weights[0, :] @ rates)]\n",
    "    \n",
    "average_readouts = np.array(y_readout)[:, buffer_zeros + 500:].mean(axis=1)"
   ]
  },
  {
   "cell_type": "code",
   "execution_count": null,
   "metadata": {},
   "outputs": [],
   "source": [
    "# Plot a 3D surface\n",
    "fig = plt.figure(figsize=(8, 9))\n",
    "ax1 = fig.add_subplot(111, projection='3d')\n",
    "ax1.set_xlabel('$x_1$')\n",
    "ax1.set_ylabel('$x_2$')\n",
    "ax1.set_zlabel('$y$')\n",
    "# Plot a 3D surface\n",
    "readout_surf_snn = ax1.plot_surface(X1_train, X2_train, average_readouts.reshape(Y_targ_train.shape), alpha=0.5)\n",
    "fig.suptitle('SNN surface before learning', fontsize=18)\n",
    "plt.show()"
   ]
  },
  {
   "cell_type": "code",
   "execution_count": null,
   "metadata": {},
   "outputs": [],
   "source": [
    "# plot contours and active-inactive neurons\n",
    "active_neurons_init = np.zeros(X_test.shape[0]) * np.nan\n",
    "y_predict_init = np.zeros(X_test.shape[0])\n",
    "for i, x in enumerate(X_test):\n",
    "    y_out_init, n_act = snn_cvx.run_maxout(x, F_weights_init, G_weights_init, thresholds_init)\n",
    "    y_predict_init[i] = y_out_init\n",
    "    active_neurons_init[i] = n_act\n",
    "    \n",
    "y_predict_init_reshaped = y_predict_init.reshape(Y_targ_test.shape)\n",
    "active_neurons_init_reshaped = active_neurons_init.reshape(Y_targ_test.shape)\n",
    "\n",
    "# make contour plots\n",
    "zlim =14\n",
    "ticks = [(i, i) for i in np.linspace(x_lim, -x_lim, 3)]\n",
    "c_ticks = [(i, i) for i in np.linspace(0, zlim, 2)]\n",
    "\n",
    "clim = (0, zlim)\n",
    "bounds = (-x_lim, -x_lim, x_lim, x_lim)\n",
    "nlevels = 40\n",
    "cmap_neurons = 'glasbey_dark'\n",
    "cmap_contour='gray'\n",
    "alpha=1\n",
    "    \n",
    "img = hv.Image(y_predict_init_reshaped, kdims=['$x_1$', '$x_2$'], vdims='$y$', bounds=bounds).opts(\n",
    "                                    cmap=cmap_contour, invert_zaxis=True, clims=clim)\n",
    "levels = list(np.linspace(-zlim, zlim, nlevels))\n",
    "img_contour_init = hv.operation.contours(img, group='Y', levels=levels).opts(\n",
    "                                    xticks=3, yticks=3, colorbar=True, cmap=cmap_contour, \n",
    "                                    cbar_ticks=c_ticks, clim=clim, alpha=alpha, linewidth=1.5, \n",
    "                                    )\n",
    "\n",
    "# show which neuron is active\n",
    "img_nactive_init = hv.Image(active_neurons_init_reshaped, kdims=['$x_1$', '$x_2$'], vdims='$y$', bounds=bounds).opts(cmap=cmap_neurons, alpha=0.6)\n",
    "\n",
    "# plot contours and active neurons\n",
    "img_nactive_init*img_contour_init\n"
   ]
  },
  {
   "cell_type": "markdown",
   "metadata": {},
   "source": [
    "## Train network parameters"
   ]
  },
  {
   "cell_type": "code",
   "execution_count": null,
   "metadata": {},
   "outputs": [],
   "source": [
    "T = 4 # simulation time\n",
    "dt = 3e-03 # time step\n",
    "t_span = np.arange(0, T, dt)\n",
    "num_bins = t_span.size\n",
    "buffer_bins = int(1/dt)\n",
    "buffer_zeros = int(buffer_bins/2)\n",
    "x_sample = np.zeros((K, num_bins))\n",
    "\n",
    "# initialize network parameters\n",
    "D_weights = D_weights_init.copy()\n",
    "G_weights = G_weights_init.copy()\n",
    "F_weights = F_weights_init.copy()\n",
    "omega = omega_init.copy()\n",
    "thresholds = thresholds_init.copy()\n",
    "\n",
    "G_weights_2 = G_weights_2_init.copy()\n",
    "F_weights_2 = F_weights_2_init.copy()\n",
    "omega_2 = omega_2_init.copy()\n",
    "thresholds_2 = thresholds_2_init.copy()\n",
    "\n",
    "# run supervised learning\n",
    "alpha_thresh_init = 1e-03\n",
    "alpha_F_init = 1e-03\n",
    "leak_thresh = 0.\n",
    "\n",
    "num_epochs = 100\n",
    "thresholds_array_fit = np.zeros((N, num_epochs))\n",
    "F_weights_array_fit = np.zeros((N, K, num_epochs))\n",
    "decrease_learning_rate = True\n",
    "\n",
    "for epoch in range(num_epochs):\n",
    "    print ('iteration: ',epoch+1)\n",
    "    data_index_list = np.arange(X_train.shape[0])\n",
    "    np.random.shuffle(data_index_list)\n",
    "    \n",
    "    if decrease_learning_rate:\n",
    "        alpha_thresh = alpha_thresh_init * np.exp(-0.0001 * (epoch + 1))\n",
    "        alpha_F = alpha_F_init * np.exp(-0.0001 * (epoch + 1))\n",
    "\n",
    "    else:\n",
    "        alpha_thresh = alpha_thresh_init\n",
    "        alpha_F = alpha_F_init\n",
    "    \n",
    "    for data_index in data_index_list:\n",
    "        x_sample[:, buffer_zeros:] = X_train[data_index, :][:, None]\n",
    "        y_sample = Y_train[data_index, :]\n",
    "\n",
    "        thresholds, F_weights, thresholds_2, F_weights_2 = snn_cvx.update_weights_2(\n",
    "            x_sample,\n",
    "            y_sample,\n",
    "            F_weights,F_weights_2,\n",
    "            G_weights,G_weights_2,\n",
    "            omega,omega_2,\n",
    "            thresholds,thresholds_2,\n",
    "            buffer_bins,\n",
    "            dt,\n",
    "            leak,\n",
    "            leak_thresh,\n",
    "            alpha_thresh,\n",
    "            alpha_F,\n",
    "            mu=0.,\n",
    "            sigma_v=0.\n",
    "        )\n",
    "        \n",
    "    thresholds_array_fit[:, epoch] = thresholds\n",
    "    F_weights_array_fit[:, :, epoch] = F_weights\n",
    "    "
   ]
  },
  {
   "cell_type": "markdown",
   "metadata": {},
   "source": [
    "## After learning"
   ]
  },
  {
   "cell_type": "code",
   "execution_count": null,
   "metadata": {},
   "outputs": [],
   "source": [
    "# run snn with learnt parameters\n",
    "x_sample = np.zeros((K, num_bins))\n",
    "\n",
    "# call learnt parameters\n",
    "F_weights_fit = F_weights_array_fit[:, :, -1]\n",
    "thresholds_fit = thresholds_array_fit[:, -1]\n",
    "\n",
    "y_readout = []\n",
    "\n",
    "for data_index in range(X_train.shape[0]):\n",
    "    x_sample[:, buffer_zeros:] = X_train[data_index, :][:, None]\n",
    "\n",
    "    rates = snn_cvx.run_snn_trial(\n",
    "        x_sample,\n",
    "        F_weights_fit,\n",
    "        omega,\n",
    "        thresholds_fit,\n",
    "        dt,\n",
    "        leak,\n",
    "    )\n",
    "    \n",
    "    y_readout += [np.copy(D_weights[0, :] @ rates)]\n",
    "    \n",
    "average_readouts_fit = np.array(y_readout)[:, buffer_zeros + 500:].mean(axis=1)"
   ]
  },
  {
   "cell_type": "code",
   "execution_count": null,
   "metadata": {},
   "outputs": [],
   "source": [
    "# Plot a 3D surface\n",
    "fig = plt.figure(figsize=(8, 9))\n",
    "ax1 = fig.add_subplot(111, projection='3d')\n",
    "ax1.set_xlabel('$x_1$')\n",
    "ax1.set_ylabel('$x_2$')\n",
    "ax1.set_zlabel('$y$')\n",
    "# Plot a 3D surface\n",
    "readout_surf_snn = ax1.plot_surface(X1_train, X2_train, average_readouts_fit.reshape(Y_targ_train.shape), alpha=0.5)\n",
    "fig.suptitle('SNN surface after learning', fontsize=18)\n",
    "plt.show()"
   ]
  },
  {
   "cell_type": "code",
   "execution_count": null,
   "metadata": {},
   "outputs": [],
   "source": [
    "# plot contours and active-inactive neurons after learning parameters\n",
    "active_neurons_fit = np.zeros(X_test.shape[0]) * np.nan\n",
    "y_predict_fit = np.zeros(X_test.shape[0])\n",
    "for i, x in enumerate(X_test):\n",
    "    y_out_fit, n_act = snn_cvx.run_maxout(x, F_weights_fit, G_weights, thresholds_fit)\n",
    "    y_predict_fit[i] = y_out_fit\n",
    "    active_neurons_fit[i] = n_act\n",
    "    \n",
    "y_predict_fit_reshaped = y_predict_fit.reshape(Y_targ_test.shape)\n",
    "active_neurons_fit_reshaped = active_neurons_fit.reshape(Y_targ_test.shape)\n",
    "\n",
    "# make contour plots\n",
    "zlim =14\n",
    "ticks = [(i, i) for i in np.linspace(x_lim, -x_lim, 3)]\n",
    "c_ticks = [(i, i) for i in np.linspace(0, zlim, 2)]\n",
    "\n",
    "clim = (0, zlim)\n",
    "bounds = (-x_lim, -x_lim, x_lim, x_lim)\n",
    "nlevels = 40\n",
    "cmap_neurons = 'glasbey_dark'\n",
    "cmap_contour='gray'\n",
    "alpha=1\n",
    "    \n",
    "img = hv.Image(y_predict_fit_reshaped, kdims=['$x_1$', '$x_2$'], vdims='$y$', bounds=bounds).opts(\n",
    "                                    cmap=cmap_contour, invert_zaxis=True, clims=clim)\n",
    "levels = list(np.linspace(-zlim, zlim, nlevels))\n",
    "img_contour_fit = hv.operation.contours(img, group='Y', levels=levels).opts(\n",
    "                                    xticks=3, yticks=3, colorbar=True, cmap=cmap_contour, \n",
    "                                    cbar_ticks=c_ticks, clim=clim, alpha=alpha, linewidth=1.5, \n",
    "                                    )\n",
    "\n",
    "# show which neuron is active\n",
    "img_nactive_fit = hv.Image(active_neurons_fit_reshaped, kdims=['$x_1$', '$x_2$'], vdims='$y$', bounds=bounds).opts(cmap=cmap_neurons, alpha=0.6)\n",
    "\n",
    "# plot contours and active neurons\n",
    "img_nactive_fit*img_contour_fit\n"
   ]
  },
  {
   "cell_type": "code",
   "execution_count": null,
   "metadata": {},
   "outputs": [],
   "source": []
  }
 ],
 "metadata": {
  "hide_input": false,
  "kernelspec": {
   "display_name": "Python 3",
   "language": "python",
   "name": "python3"
  },
  "language_info": {
   "codemirror_mode": {
    "name": "ipython",
    "version": 3
   },
   "file_extension": ".py",
   "mimetype": "text/x-python",
   "name": "python",
   "nbconvert_exporter": "python",
   "pygments_lexer": "ipython3",
   "version": "3.8.3-final"
  },
  "latex_envs": {
   "LaTeX_envs_menu_present": true,
   "autoclose": false,
   "autocomplete": true,
   "bibliofile": "biblio.bib",
   "cite_by": "apalike",
   "current_citInitial": 1,
   "eqLabelWithNumbers": true,
   "eqNumInitial": 1,
   "hotkeys": {
    "equation": "Ctrl-E",
    "itemize": "Ctrl-I"
   },
   "labels_anchors": false,
   "latex_user_defs": false,
   "report_style_numbering": false,
   "user_envs_cfg": false
  },
  "varInspector": {
   "cols": {
    "lenName": 16,
    "lenType": 16,
    "lenVar": 40
   },
   "kernels_config": {
    "python": {
     "delete_cmd_postfix": "",
     "delete_cmd_prefix": "del ",
     "library": "var_list.py",
     "varRefreshCmd": "print(var_dic_list())"
    },
    "r": {
     "delete_cmd_postfix": ") ",
     "delete_cmd_prefix": "rm(",
     "library": "var_list.r",
     "varRefreshCmd": "cat(var_dic_list()) "
    }
   },
   "types_to_exclude": [
    "module",
    "function",
    "builtin_function_or_method",
    "instance",
    "_Feature"
   ],
   "window_display": false
  }
 },
 "nbformat": 4,
 "nbformat_minor": 4
}